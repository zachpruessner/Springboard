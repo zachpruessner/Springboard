{
 "cells": [
  {
   "cell_type": "code",
   "execution_count": 35,
   "metadata": {
    "scrolled": true
   },
   "outputs": [
    {
     "name": "stdout",
     "output_type": "stream",
     "text": [
      "2.6.0\n",
      "2. Query all tasks\n",
      "(0, 'Tennis Court 1', 957)\n",
      "(1, 'Tennis Court 2', 882)\n",
      "(2, 'Badminton Court', 1086)\n",
      "(3, 'Table Tennis', 794)\n",
      "(4, 'Massage Room 1', 884)\n",
      "(5, 'Massage Room 2', 54)\n",
      "(6, 'Squash Court', 418)\n",
      "(7, 'Snooker Table', 860)\n",
      "(8, 'Pool Table', 856)\n"
     ]
    }
   ],
   "source": [
    "import sqlite3\n",
    "from sqlite3 import Error\n",
    "\n",
    "def create_connection(db_file):\n",
    "    \"\"\" create a database connection to the SQLite database \n",
    "        specified by the db_file\n",
    "    :param db_file: database file\n",
    "    :return: Connection object or None\n",
    "    \"\"\"\n",
    "    conn = None\n",
    "    try:\n",
    "        conn = sqlite3.connect(db_file)\n",
    "        print(sqlite3.version)\n",
    "    except Error as e:\n",
    "            print(e)\n",
    "             \n",
    "    return conn\n",
    "\n",
    "\n",
    "def select_all_tasks(conn):\n",
    "    \"\"\"\n",
    "    Query all rows in the tasks table\n",
    "    :param conn: the Connection object\n",
    "    :return:\n",
    "    \"\"\"\n",
    "    cur = conn.cursor()\n",
    "    \n",
    "    query1 = \"\"\"\n",
    "    SELECT b.facid, f.name, SUM( b.slots ) AS usage_by_member\n",
    "FROM Bookings AS b\n",
    "INNER JOIN Facilities AS f \n",
    "ON b.facid = f.facid\n",
    "WHERE b.memid !=0\n",
    "GROUP BY b.facid\n",
    "        \"\"\"\n",
    "    \n",
    "    cur.execute(query1)\n",
    "    \n",
    "    rows = cur.fetchall()\n",
    "    \n",
    "    for row in rows:\n",
    "        print(row)\n",
    "        \n",
    "        \n",
    "def main():\n",
    "    database = \"sqlite_db_pythonsqlite.db\"\n",
    "    \n",
    "    # create a database connection\n",
    "    conn = create_connection(database)\n",
    "    with conn:\n",
    "        print(\"2. Query all tasks\")\n",
    "        select_all_tasks(conn)\n",
    "        \n",
    "        \n",
    "if __name__ == '__main__':\n",
    "    main()\n",
    "    \n",
    "    "
   ]
  },
  {
   "cell_type": "markdown",
   "metadata": {},
   "source": [
    "facid, name, membercost, guestcost, initialoutlay, monthlymaintenance"
   ]
  },
  {
   "cell_type": "markdown",
   "metadata": {},
   "source": [
    "bookid, facid, memid, starttime, slots"
   ]
  },
  {
   "cell_type": "markdown",
   "metadata": {},
   "source": [
    "memid, surname, firstname, address, zipcode, telephone, recommendedby, joindate"
   ]
  },
  {
   "cell_type": "code",
   "execution_count": null,
   "metadata": {},
   "outputs": [],
   "source": []
  }
 ],
 "metadata": {
  "kernelspec": {
   "display_name": "Python 3",
   "language": "python",
   "name": "python3"
  },
  "language_info": {
   "codemirror_mode": {
    "name": "ipython",
    "version": 3
   },
   "file_extension": ".py",
   "mimetype": "text/x-python",
   "name": "python",
   "nbconvert_exporter": "python",
   "pygments_lexer": "ipython3",
   "version": "3.8.5"
  }
 },
 "nbformat": 4,
 "nbformat_minor": 4
}
